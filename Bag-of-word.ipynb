{
 "cells": [
  {
   "cell_type": "markdown",
   "id": "a0d91bf5-03b1-48b0-9e61-a578e7a4b9b8",
   "metadata": {},
   "source": [
    "## What is the bag-of-word model?"
   ]
  },
  {
   "cell_type": "markdown",
   "id": "7d47c701-047a-4ab9-8945-adda59d9be56",
   "metadata": {},
   "source": [
    "In NLP, we need to represent each document as a vector because machine learning can only accept input as numbers. That is, we want to find a *magic* function that:\n",
    "$$\n",
    "f(\\text{document}) = vector\n",
    "$$\n",
    "\n",
    "Today's topic is **bag-of-word(BoW) model**, which can transform a document into a vector representation."
   ]
  },
  {
   "cell_type": "markdown",
   "id": "f2833703-dceb-401c-a6fc-3132eb2f6646",
   "metadata": {},
   "source": [
    "> 💡 Although the BoW model seems kind of outdated in 2023, I still encourage you to learn from the history and think about some **essential problems**:\n",
    "- What is the motivation?\n",
    "- What are the pros and cons?\n",
    "- How can we make it better?"
   ]
  },
  {
   "cell_type": "markdown",
   "id": "1c1c4125-fc75-4e6f-abd2-c1f7f870a0b6",
   "metadata": {},
   "source": [
    "> 💡 Note that I may use word and token interchangeably"
   ]
  },
  {
   "cell_type": "markdown",
   "id": "e4faa2ba-b55a-4635-a81f-6fddd2057c6a",
   "metadata": {},
   "source": [
    "### Motivation & intuition\n",
    "Before we dive into the details, I want to give you an **intuition** why BoW may work - **Similar documents *may* use similar words**\n",
    "\n",
    "You may object to this intuition and show some good counterexamples, and I agree with your point. That's why we need more powerful models rather than BoW :)"
   ]
  },
  {
   "cell_type": "markdown",
   "id": "02f9a11b-3a6d-43fd-a9bf-28c842047820",
   "metadata": {},
   "source": [
    "### BoW model in detail\n",
    "\n",
    "In BoW, you need to do **two things**:\n",
    "1. Create a vocabulary. Each token in the vocab is assigned a unique id (usually, it will start from `0`). **The length of the BoW vector will be equal to the size of the vocab**\n",
    "2. For each document in the corpus, identify words that are not currently present in the existing vocabulary, and subsequently incorporate these words into the vocabulary list.\n",
    "\n",
    "After constructing a BoW model, we can use it to transform any document into a vector representation. The procedure is simple, we just count the occurrences of each word in the document. Note that we **only** consider vocab words and ignore the out-of-vocabulary(OOV) words."
   ]
  },
  {
   "cell_type": "markdown",
   "id": "59d15b8e-f7fa-4766-947a-0e26f2cea20e",
   "metadata": {},
   "source": [
    "Let's use a toy example to illustrate this idea[^1]"
   ]
  },
  {
   "cell_type": "code",
   "execution_count": 1,
   "id": "3b1ef873-762e-47f9-ae04-3a139da139af",
   "metadata": {},
   "outputs": [],
   "source": [
    "toy_corpus = [\n",
    "    'This is the first document.',\n",
    "    'This is the second second document.',\n",
    "    'And the third one.',\n",
    "    'Is this the first document?',\n",
    "]"
   ]
  },
  {
   "cell_type": "markdown",
   "id": "8801955e-bc68-464e-bc01-bbb41fd5c2c4",
   "metadata": {},
   "source": [
    "Remove punctuation, then tokenize with spaces, and also convert all the words to lowercase. After preprocessing, we can obtain:"
   ]
  },
  {
   "cell_type": "code",
   "execution_count": 2,
   "id": "4e4a42f6-3d5a-4356-a654-f543bc87ecfc",
   "metadata": {},
   "outputs": [],
   "source": [
    "tokenized_toy_corpus = [\n",
    "    ['this', 'is', 'the', 'first', 'document'],\n",
    "    ['this', 'is', 'the', 'second', 'second', 'document'],\n",
    "    ['and', 'the', 'third', 'one'],\n",
    "    ['is', 'this', 'the', 'first', 'document']\n",
    "]"
   ]
  },
  {
   "cell_type": "markdown",
   "id": "e359e55b-0e80-4658-bc20-81c6aa746c89",
   "metadata": {},
   "source": [
    "To simplify matters, let's encompass all words within the corpus and incorporate them into our vocabulary."
   ]
  },
  {
   "cell_type": "code",
   "execution_count": 3,
   "id": "0bc66ce2-646a-475f-93ae-8e101c306a36",
   "metadata": {},
   "outputs": [
    {
     "name": "stdout",
     "output_type": "stream",
     "text": [
      "the toy vocab size: 9\n"
     ]
    }
   ],
   "source": [
    "flatten_list_as_set = set(sum(tokenized_toy_corpus, start=[]))\n",
    "print(f\"the toy vocab size: {len(flatten_list_as_set)}\")"
   ]
  },
  {
   "cell_type": "markdown",
   "id": "a2dba2dc-dfb5-49b2-9ccf-46c8b406f0a3",
   "metadata": {},
   "source": [
    "> 💡 A nice trick to flatten this list :D\n",
    "\n",
    "Now, let's assign a unique token id to each word"
   ]
  },
  {
   "cell_type": "code",
   "execution_count": 4,
   "id": "a619bd93-ae91-45aa-9f3b-cef161497009",
   "metadata": {},
   "outputs": [
    {
     "name": "stdout",
     "output_type": "stream",
     "text": [
      "{'and': 0, 'document': 1, 'first': 2, 'is': 3, 'one': 4, 'second': 5, 'the': 6, 'third': 7, 'this': 8}\n"
     ]
    }
   ],
   "source": [
    "toy_token2id = {}\n",
    "for token in sorted(flatten_list_as_set):\n",
    "    toy_token2id[token] = len(toy_token2id)\n",
    "\n",
    "print(toy_token2id)"
   ]
  },
  {
   "cell_type": "markdown",
   "id": "d0155dc1-0562-4f6a-821d-bc78dad28a00",
   "metadata": {},
   "source": [
    "The vocab size is `9`, then we know we can represent each document as a vector with a length `9` by counting the words\n",
    "\n",
    "Let's manually implement this to see if we understand the ideas"
   ]
  },
  {
   "cell_type": "code",
   "execution_count": 5,
   "id": "c9ddd2e1-5c57-4047-bee4-b10c9da9afa3",
   "metadata": {},
   "outputs": [
    {
     "name": "stdout",
     "output_type": "stream",
     "text": [
      "[[0, 1, 1, 1, 0, 0, 1, 0, 1], [0, 1, 0, 1, 0, 2, 1, 0, 1], [1, 0, 0, 0, 1, 0, 1, 1, 0], [0, 1, 1, 1, 0, 0, 1, 0, 1]]\n"
     ]
    }
   ],
   "source": [
    "BoW_matrix = []\n",
    "for document in tokenized_toy_corpus:\n",
    "    temp = [0] * 9\n",
    "    for token in document:\n",
    "        temp[toy_token2id[token]] += 1\n",
    "    BoW_matrix.append(temp)\n",
    "print(BoW_matrix)"
   ]
  },
  {
   "cell_type": "markdown",
   "id": "f6cff789-1cb3-4f06-8277-90b2e3ec4256",
   "metadata": {},
   "source": [
    "The numbers may not be so intuitive, let's add more informations to make this better. If you check the answer[^1], that's exactly what we calculated"
   ]
  },
  {
   "cell_type": "markdown",
   "id": "4b46ece2-d3ee-4e1c-900f-a6fbbf053e21",
   "metadata": {},
   "source": [
    "|           | and | document | first | is  | one | second | the | third | this |\n",
    "| --------- | --- | -------- | ----- | --- | --- | ------ | --- | ----- | ---- |\n",
    "| document1 | 0   | 1        | 1     | 1   | 0   | 0      | 1   | 0     | 1    |\n",
    "| document2 | 0   | 1        | 0     | 1   | 0   | 2      | 1   | 0     | 1    |\n",
    "| document3 | 1   | 0        | 0     | 0   | 1   | 0      | 1   | 1     | 0    |\n",
    "| document4 | 0   | 1        | 1     | 1   | 0   | 0      | 1   | 0     | 1    |"
   ]
  },
  {
   "cell_type": "markdown",
   "id": "761b4d6b-226b-45b8-accd-baf987b7702c",
   "metadata": {},
   "source": [
    "Here comes the question: How to read this?\n",
    "\n",
    "**Each row is a BoW vector of the corresponding document**. Take the 2nd row as an example, it means the document2 has:\n",
    "- `document` * 1\n",
    "- `is` * 1\n",
    "- `second` * 2\n",
    "- `the` * 1\n",
    "- `this` * 1\n",
    "\n",
    "Recall that the tokenized document2 is `['this', 'is', 'the', 'second', 'second', 'document']`, which is aligned with the vector representation.\n",
    "\n",
    "Now you know how to interpret the BoW matrix. :D"
   ]
  },
  {
   "cell_type": "markdown",
   "id": "8b2c0c27-5a3b-4b50-b17e-80e4f7c83a24",
   "metadata": {},
   "source": [
    "> 🧐 You might have observed that there are so many `0` in this matrix. Indeed, the BoW matrix tends to be sparse. That's one of the limitations of BoW"
   ]
  },
  {
   "cell_type": "code",
   "execution_count": 6,
   "id": "d059b750-6a11-4edc-b55b-b7b9d47ab261",
   "metadata": {},
   "outputs": [],
   "source": [
    "from sklearn.metrics.pairwise import cosine_similarity"
   ]
  },
  {
   "cell_type": "markdown",
   "id": "0b62a4b5-a5c1-43b8-a155-3e7e0111f328",
   "metadata": {},
   "source": [
    "We can use the inner product to measure the similarity between two vectors.\n",
    "\n",
    "Recall our `tokenized_toy_corpus`\n",
    "```python\n",
    "tokenized_toy_corpus = [\n",
    "    ['this', 'is', 'the', 'first', 'document'],\n",
    "    ['this', 'is', 'the', 'second', 'second', 'document'],\n",
    "    ['and', 'the', 'third', 'one'],\n",
    "    ['is', 'this', 'the', 'first', 'document']\n",
    "]\n",
    "```\n",
    "\n",
    "Now, let's say the query is the last document - `['is', 'this', 'the', 'first', 'document']`, which document has the highest similarity except the query?\n",
    "\n",
    "We as humans can find this at a glance. The first document should be the answer. Let's check if the machine can figure out this:"
   ]
  },
  {
   "cell_type": "code",
   "execution_count": 7,
   "id": "d038355c-aa56-4d93-93fc-710199ede216",
   "metadata": {},
   "outputs": [
    {
     "name": "stdout",
     "output_type": "stream",
     "text": [
      "[[1.]] [[0.63245553]] [[0.2236068]]\n"
     ]
    }
   ],
   "source": [
    "print(\n",
    "    cosine_similarity([BoW_matrix[3]], [BoW_matrix[0]]),\n",
    "    cosine_similarity([BoW_matrix[3]], [BoW_matrix[1]]),\n",
    "    cosine_similarity([BoW_matrix[3]], [BoW_matrix[2]]),\n",
    ")"
   ]
  },
  {
   "cell_type": "markdown",
   "id": "b0ece952-d280-4033-a97c-5a8704452518",
   "metadata": {},
   "source": [
    "The machine agrees with us. 🤔️"
   ]
  },
  {
   "cell_type": "markdown",
   "id": "159c72a5",
   "metadata": {},
   "source": [
    "## Beyond the toy example\n",
    "\n",
    "The toy example is not quite exciting in my opinion. So I use a real-world dataset - [CodeSearchNet](https://huggingface.co/datasets/code_search_net) to play the BoW model.\n",
    "\n",
    "The CodeSearchNet contains various functions from many programming languages, I just pick the Python code to analyze.\n",
    "\n",
    "You are free to investigate another programming language. :)"
   ]
  },
  {
   "cell_type": "code",
   "execution_count": 8,
   "id": "2142e821",
   "metadata": {},
   "outputs": [
    {
     "name": "stderr",
     "output_type": "stream",
     "text": [
      "/usr/local/Caskroom/miniconda/base/envs/nlp/lib/python3.10/site-packages/tqdm/auto.py:21: TqdmWarning: IProgress not found. Please update jupyter and ipywidgets. See https://ipywidgets.readthedocs.io/en/stable/user_install.html\n",
      "  from .autonotebook import tqdm as notebook_tqdm\n"
     ]
    }
   ],
   "source": [
    "from datasets import load_dataset\n",
    "from gensim import corpora"
   ]
  },
  {
   "cell_type": "code",
   "execution_count": 9,
   "id": "484fe42a-70dd-448d-ab2c-a3dc400df721",
   "metadata": {},
   "outputs": [],
   "source": [
    "def process_data(partition: str) -> list[str]:\n",
    "    \"\"\"\n",
    "    Get data from the datasets library from huggingface.\n",
    "    Only keep the `whole_func_string` column\n",
    "\n",
    "    Arg\n",
    "    ---\n",
    "    `partition`: train/validation/test\n",
    "\n",
    "    Return\n",
    "    -----\n",
    "        return a list of python functions\n",
    "    \"\"\"\n",
    "    raw_datasets = load_dataset(\"code_search_net\", \"python\")\n",
    "    return raw_datasets[partition][\"whole_func_string\"]"
   ]
  },
  {
   "cell_type": "markdown",
   "id": "14283317-f3a1-46b7-bb5e-76af478ee48f",
   "metadata": {},
   "source": [
    "This may take a while depending on your network condition(941MB)"
   ]
  },
  {
   "cell_type": "code",
   "execution_count": 10,
   "id": "473d0f8d",
   "metadata": {},
   "outputs": [],
   "source": [
    "# use the test dataset to speed up the process\n",
    "corpus = process_data(\"test\")"
   ]
  },
  {
   "cell_type": "markdown",
   "id": "c245053a-9ebe-45f7-ac4d-108da9635897",
   "metadata": {},
   "source": [
    "Let's see a simple example"
   ]
  },
  {
   "cell_type": "code",
   "execution_count": 11,
   "id": "fc142fb0-5834-473e-8004-dc29282de9fe",
   "metadata": {},
   "outputs": [
    {
     "name": "stdout",
     "output_type": "stream",
     "text": [
      "def get_vid_from_url(url):\n",
      "        \"\"\"Extracts video ID from URL.\n",
      "        \"\"\"\n",
      "        return match1(url, r'youtu\\.be/([^?/]+)') or \\\n",
      "          match1(url, r'youtube\\.com/embed/([^/?]+)') or \\\n",
      "          match1(url, r'youtube\\.com/v/([^/?]+)') or \\\n",
      "          match1(url, r'youtube\\.com/watch/([^/?]+)') or \\\n",
      "          parse_query_param(url, 'v') or \\\n",
      "          parse_query_param(parse_query_param(url, 'u'), 'v')\n"
     ]
    }
   ],
   "source": [
    "print(corpus[0])"
   ]
  },
  {
   "cell_type": "markdown",
   "id": "889cb42f-72a7-4c63-a56d-1e8f76d24bba",
   "metadata": {},
   "source": [
    "Different from the English text, the programming language has well-defined grammar(context-free grammar). So we can tokenize the source code by a lexer. I use the built-in `ast` module and `tokenize` module to achieve this"
   ]
  },
  {
   "cell_type": "markdown",
   "id": "d3c30021-9468-44dd-8f47-1745e71d0e20",
   "metadata": {},
   "source": [
    "> Feel free to skip this function if can't understand how a lexer works. The reason behind using a lexer is to make the tokenization process more accurate :)"
   ]
  },
  {
   "cell_type": "code",
   "execution_count": 12,
   "id": "817c75db-eb7a-4c79-b2bf-2ef787a3cf67",
   "metadata": {},
   "outputs": [],
   "source": [
    "import ast\n",
    "from io import BytesIO\n",
    "import tokenize"
   ]
  },
  {
   "cell_type": "code",
   "execution_count": 13,
   "id": "4e2a0197-24a9-424b-95b6-1feafaf325f8",
   "metadata": {},
   "outputs": [],
   "source": [
    "def get_token_stream(code: str) -> list[str]:\n",
    "    \"\"\"\n",
    "    Tokenize the source code and return a token stream\n",
    "\n",
    "    Note that the following token type will be removed:\n",
    "    - COMMENT\n",
    "    - NEWLINE\n",
    "    - NL\n",
    "    - INDENT\n",
    "    - DEDENT\n",
    "    - ENCODING\n",
    "    - STRING\n",
    "    \"\"\"\n",
    "    # see https://docs.python.org/3/library/token.html\n",
    "    useless_token_type = {\n",
    "        tokenize.COMMENT,\n",
    "        tokenize.NEWLINE,\n",
    "        tokenize.NL,  # non-terminating newline\n",
    "        tokenize.INDENT,\n",
    "        tokenize.DEDENT,\n",
    "        tokenize.ENCODING,\n",
    "        tokenize.STRING,\n",
    "    }\n",
    "    parse_tree = ast.parse(code)\n",
    "    origin_tokens = tokenize.tokenize(BytesIO(code.encode(\"utf-8\")).readline)\n",
    "    token_as_strlist = [\n",
    "        token.string\n",
    "        for token in origin_tokens\n",
    "        if token.type not in useless_token_type\n",
    "    ]\n",
    "\n",
    "    return token_as_strlist"
   ]
  },
  {
   "cell_type": "markdown",
   "id": "2a20951b-2f37-4693-a52c-482d474b1ea3",
   "metadata": {},
   "source": [
    "Two things to notice are:\n",
    "- We remove **all** strings, including docstring, f-string, comment, etc.\n",
    "- We **do not** tokenize the variable name or function name using `camelCase` or `snake_case` convention"
   ]
  },
  {
   "cell_type": "markdown",
   "id": "7813e132-6331-4d60-a10a-027038661725",
   "metadata": {},
   "source": [
    "First, let's use `get_token_stream` to tokenize each function within this dataset. Note that the dataset contains Python2 code, which can't be processed by the auxiliary function I have crafted. Consequently, I choose to remove the Python2 code."
   ]
  },
  {
   "cell_type": "code",
   "execution_count": 14,
   "id": "aa1191de-b7b7-4e41-baef-c34da4842064",
   "metadata": {},
   "outputs": [],
   "source": [
    "from tqdm.auto import tqdm"
   ]
  },
  {
   "cell_type": "code",
   "execution_count": 15,
   "id": "55b7edfa-fad8-42e4-96b8-c2043d4a325b",
   "metadata": {},
   "outputs": [
    {
     "name": "stderr",
     "output_type": "stream",
     "text": [
      "100%|█████████████████████████████████████████████████████████████████████████████████████████████████████████████████████████████████████████████████████████| 22176/22176 [00:12<00:00, 1756.42it/s]"
     ]
    },
    {
     "name": "stdout",
     "output_type": "stream",
     "text": [
      "Python2: 228, Python3: 21948\n"
     ]
    },
    {
     "name": "stderr",
     "output_type": "stream",
     "text": [
      "\n"
     ]
    }
   ],
   "source": [
    "py2_cnt, py3_cnt = 0, 0\n",
    "new_corpus = []\n",
    "codes = []\n",
    "for code in tqdm(corpus):\n",
    "    try:\n",
    "        codes.append(get_token_stream(code))\n",
    "        new_corpus.append(code)\n",
    "        py3_cnt += 1\n",
    "    except SyntaxError:\n",
    "        py2_cnt += 1\n",
    "print(f\"Python2: {py2_cnt}, Python3: {py3_cnt}\")"
   ]
  },
  {
   "cell_type": "code",
   "execution_count": 16,
   "id": "ef3a6142-b042-49e5-8b48-5ad17f93edac",
   "metadata": {},
   "outputs": [],
   "source": [
    "corpus = new_corpus"
   ]
  },
  {
   "cell_type": "markdown",
   "id": "a2f23605-dca6-42ea-9d3a-299a97c6dcb4",
   "metadata": {},
   "source": [
    "Let's make sure the `get_token_stream` function works correctly"
   ]
  },
  {
   "cell_type": "code",
   "execution_count": 17,
   "id": "b9ecc10a-8b4c-4698-8dfc-c431b779ee33",
   "metadata": {},
   "outputs": [
    {
     "name": "stdout",
     "output_type": "stream",
     "text": [
      "['def', 'get_vid_from_url', '(', 'url', ')', ':', 'return', 'match1', '(', 'url', ',', ')', 'or', 'match1', '(', 'url', ',', ')', 'or', 'match1', '(', 'url', ',', ')', 'or', 'match1', '(', 'url', ',', ')', 'or', 'parse_query_param', '(', 'url', ',', ')', 'or', 'parse_query_param', '(', 'parse_query_param', '(', 'url', ',', ')', ',', ')', '']\n"
     ]
    }
   ],
   "source": [
    "print(codes[0])"
   ]
  },
  {
   "cell_type": "markdown",
   "id": "ec5c1b39-e4ee-4ad7-b7c1-4f0239462270",
   "metadata": {},
   "source": [
    "Now, we can leverage the API provided by the [Gensim](https://radimrehurek.com/gensim/) to create a vocabulary"
   ]
  },
  {
   "cell_type": "code",
   "execution_count": 18,
   "id": "3f1e19c0-3b43-4a3a-bf84-741477d83464",
   "metadata": {},
   "outputs": [],
   "source": [
    "from gensim import corpora\n",
    "\n",
    "dictionary = corpora.Dictionary(codes)"
   ]
  },
  {
   "cell_type": "code",
   "execution_count": 19,
   "id": "48462170-32ff-43fa-938b-fdf4c193e319",
   "metadata": {},
   "outputs": [
    {
     "name": "stdout",
     "output_type": "stream",
     "text": [
      "Dictionary<77242 unique tokens: ['', '(', ')', ',', ':']...>\n"
     ]
    }
   ],
   "source": [
    "print(dictionary)"
   ]
  },
  {
   "cell_type": "markdown",
   "id": "dbc1d9e0-c6e4-4692-b5ae-30a117154c38",
   "metadata": {},
   "source": [
    "That's a **huge** dictionary. Let's see if we can optimize this\n",
    "\n",
    "Usually, we are not interested in tokens that **only appear once** in our vocab. So we can remove them"
   ]
  },
  {
   "cell_type": "code",
   "execution_count": 20,
   "id": "49854074-74d9-450a-ad98-84c1fa0d8e98",
   "metadata": {},
   "outputs": [
    {
     "name": "stdout",
     "output_type": "stream",
     "text": [
      "Dictionary<31933 unique tokens: ['', '(', ')', ',', ':']...>\n"
     ]
    }
   ],
   "source": [
    "once_ids = [\n",
    "    token_id\n",
    "    for token_id, doc_freq in dictionary.dfs.items()\n",
    "    if doc_freq == 1\n",
    "]\n",
    "\n",
    "dictionary.filter_tokens(once_ids)\n",
    "dictionary.compactify()\n",
    "\n",
    "print(dictionary)"
   ]
  },
  {
   "cell_type": "markdown",
   "id": "b2f80dd6-4807-4226-8e85-d47c6b408a03",
   "metadata": {},
   "source": [
    "Reduced to a mere `31933` tokens, a notably improved outcome. The abundance of distinct function/variable names might be contributing to this phenomenon 🧐"
   ]
  },
  {
   "cell_type": "markdown",
   "id": "dcd722e7-5527-4e54-aa0a-60f6a7f0ebff",
   "metadata": {},
   "source": [
    "We can use the `most_common` method provided by the `Dictionary` class to see if we could find some interesting things"
   ]
  },
  {
   "cell_type": "code",
   "execution_count": 21,
   "id": "0641444f-1bf5-45e1-bd76-d035e474c6f6",
   "metadata": {},
   "outputs": [
    {
     "data": {
      "text/plain": [
       "[('.', 202834),\n",
       " ('(', 199868),\n",
       " (')', 199868),\n",
       " (',', 162853),\n",
       " ('=', 142808),\n",
       " (':', 110829),\n",
       " ('self', 71699),\n",
       " ('[', 55736),\n",
       " (']', 55736),\n",
       " ('if', 40272),\n",
       " ('return', 24021),\n",
       " ('def', 23557),\n",
       " ('', 21948),\n",
       " ('None', 19797),\n",
       " ('in', 19437),\n",
       " ('for', 13509),\n",
       " ('1', 13345),\n",
       " ('0', 13213),\n",
       " ('not', 11826),\n",
       " ('else', 10634),\n",
       " ('+', 10617),\n",
       " ('==', 9323),\n",
       " ('name', 8290),\n",
       " ('is', 7601),\n",
       " ('-', 7544)]"
      ]
     },
     "execution_count": 21,
     "metadata": {},
     "output_type": "execute_result"
    }
   ],
   "source": [
    "dictionary.most_common(25)"
   ]
  },
  {
   "cell_type": "markdown",
   "id": "ca30be68-9762-46d8-ab68-e357c3d2f91f",
   "metadata": {},
   "source": [
    "🧐 Found an interesting phenomenon, `(` and `)` have the same word frequency, and `[` and `]` are also the same, which **makes sense** since that's what the grammar requires"
   ]
  },
  {
   "cell_type": "markdown",
   "id": "01708241-d6b3-4999-ac5b-263b5fb356c2",
   "metadata": {},
   "source": [
    "Now let's use the `doc2bow` API to generate BoW vector for each document(code)"
   ]
  },
  {
   "cell_type": "code",
   "execution_count": 22,
   "id": "c2f11597-9f6a-4e9b-aa00-567450c06669",
   "metadata": {},
   "outputs": [],
   "source": [
    "BoW_matrix_for_code = [dictionary.doc2bow(d) for d in codes]"
   ]
  },
  {
   "cell_type": "code",
   "execution_count": 23,
   "id": "7bbb208f-e790-4bdd-a424-90c9f0133120",
   "metadata": {},
   "outputs": [
    {
     "name": "stdout",
     "output_type": "stream",
     "text": [
      "[(0, 1), (1, 8), (2, 8), (3, 7), (4, 1), (5, 1), (6, 1), (7, 4), (8, 5), (9, 3), (10, 1), (11, 7)]\n"
     ]
    }
   ],
   "source": [
    "print(BoW_matrix_for_code[0])"
   ]
  },
  {
   "cell_type": "markdown",
   "id": "91261f38-2891-452c-8b78-1b86963795e4",
   "metadata": {},
   "source": [
    "The return value of `doc2bow` is a list of tuples, each tuple is `(token id, count of occurrences)` **within its document** .\n",
    "\n",
    "The format used by Gensim is reasonable because now we have a vocab with size `31933`. We don't want to see a vector with size `31933` and there are so many zeros!\n",
    "\n",
    "Let's replace the token id with the corresponding string"
   ]
  },
  {
   "cell_type": "code",
   "execution_count": 24,
   "id": "6d764d30-e2a9-4a75-8e7f-698a0f13e3d0",
   "metadata": {},
   "outputs": [
    {
     "data": {
      "text/plain": [
       "[('', 1),\n",
       " ('(', 8),\n",
       " (')', 8),\n",
       " (',', 7),\n",
       " (':', 1),\n",
       " ('def', 1),\n",
       " ('get_vid_from_url', 1),\n",
       " ('match1', 4),\n",
       " ('or', 5),\n",
       " ('parse_query_param', 3),\n",
       " ('return', 1),\n",
       " ('url', 7)]"
      ]
     },
     "execution_count": 24,
     "metadata": {},
     "output_type": "execute_result"
    }
   ],
   "source": [
    "[\n",
    "    (dictionary[token_id], cnt)\n",
    "    for token_id, cnt in BoW_matrix_for_code[0]\n",
    "]"
   ]
  },
  {
   "cell_type": "markdown",
   "id": "71abf1c8-42d1-4f3a-88f5-7c5c52a2f9d9",
   "metadata": {},
   "source": [
    "The next thing I want to do is: **Can we find similar Python code using BoW**?"
   ]
  },
  {
   "cell_type": "code",
   "execution_count": 25,
   "id": "7fa384a4-2a8a-4198-856f-6b783982f5cf",
   "metadata": {},
   "outputs": [],
   "source": [
    "from gensim.similarities import Similarity\n",
    "\n",
    "indexer = Similarity(\n",
    "    output_prefix=None,\n",
    "    corpus=BoW_matrix_for_code,\n",
    "    num_features=len(dictionary),\n",
    "    num_best=3,                  # let's see Top-3 result\n",
    ")"
   ]
  },
  {
   "cell_type": "markdown",
   "id": "618d5d97-088e-47a7-8764-34821f2660cf",
   "metadata": {},
   "source": [
    "Write a Python code as you wish and check if the BoW model returns the similar code"
   ]
  },
  {
   "cell_type": "code",
   "execution_count": 26,
   "id": "fab43262-465d-4879-ae1e-ca16e5b8760c",
   "metadata": {},
   "outputs": [],
   "source": [
    "query = \"\"\"def foo(x):\n",
    "    if x > 5:\n",
    "        if x > 10:\n",
    "            return x + 1\n",
    "        else:\n",
    "            return x - 1\n",
    "    else:\n",
    "        if x < 0:\n",
    "            return x + 1\n",
    "        else:\n",
    "            return x - 1\n",
    "\"\"\""
   ]
  },
  {
   "cell_type": "code",
   "execution_count": 27,
   "id": "420b65c7-7757-438b-aff7-51aa18767c57",
   "metadata": {},
   "outputs": [
    {
     "data": {
      "text/plain": [
       "[(19669, 0.7191814184188843),\n",
       " (19805, 0.705620288848877),\n",
       " (5958, 0.6945071220397949)]"
      ]
     },
     "execution_count": 27,
     "metadata": {},
     "output_type": "execute_result"
    }
   ],
   "source": [
    "indexer[dictionary.doc2bow(get_token_stream(query))]"
   ]
  },
  {
   "cell_type": "code",
   "execution_count": 28,
   "id": "48b6522b-9d4c-48a0-b38b-4ab8a0449e82",
   "metadata": {},
   "outputs": [
    {
     "name": "stdout",
     "output_type": "stream",
     "text": [
      "def ord(x):\n",
      "    '''\n",
      "    x-->char (str of length 1)\n",
      "    Returns-->int\n",
      "        Behaves like PY2 ord() in PY2 or PY3\n",
      "    if x is str of length > 1 or int > 256\n",
      "        raises ValueError/TypeError is not SUPPRESS_ERRORS\n",
      "    '''\n",
      "    global _ord\n",
      "    if isinstance(x, int):\n",
      "        if x > 256:\n",
      "            if not SUPPRESS_ERRORS:\n",
      "                raise ValueError('ord() arg not in range(256)')\n",
      "        return x % 256\n",
      "    elif isinstance(x, bytes):\n",
      "        x = fromBytes(x)\n",
      "        if len(x) > 1:\n",
      "            if SUPPRESS_ERRORS:\n",
      "                x = x[0]\n",
      "        return _ord(x)\n",
      "    elif isinstance(x, str):\n",
      "        if len(x) > 1:\n",
      "            if SUPPRESS_ERRORS:\n",
      "                x = x[0]\n",
      "        return _ord(x)\n",
      "    else:\n",
      "        raise TypeError('Unknown type passed to ord: %s', str(type(x)))\n"
     ]
    }
   ],
   "source": [
    "print(corpus[19669])"
   ]
  },
  {
   "cell_type": "markdown",
   "id": "68b55f20-6602-4e0a-8865-388e8d153723",
   "metadata": {},
   "source": [
    "You may find that the query and the result seem to match *in some sense*. They have some similar *syntactic* information (the multiple `if-return` structures).\n",
    "\n",
    "However, in most circumstances, the BoW model gives a poor result. That's reasonable because the BoW is too naive to find the relationship between codes"
   ]
  },
  {
   "cell_type": "markdown",
   "id": "037b4393-7fab-44c1-a554-612cb5c69bbd",
   "metadata": {},
   "source": [
    "## Wrap up"
   ]
  },
  {
   "cell_type": "markdown",
   "id": "948034d8-efd4-4752-aef2-f53a208534ee",
   "metadata": {},
   "source": [
    "Now, let's summarize some limitations of BoW. You may have figured out some of them by yourself:\n",
    "1. Loss of word order information. *`The cat chased the dog` is different from `The dog chased the cat`*\n",
    "2. No semantic information. *BoW treats each word as an independent entity*\n",
    "3. The BoW vector is a high-dimensional sparse vector. *It is computationally expensive and the size depends on your vocab size*\n",
    "4. Each word has the same importance. *Some words may be more informative*\n",
    "5. Does not handle out-of-vocabulary problems. *What if a document contains many OOV tokens?*\n",
    "6. ...\n",
    "\n",
    "The BoW model has so many drawbacks that you probably only would see it in tutorials for educational purposes. In light of these limitations, more advanced models like Word2Vec, GloVe, and transformer-based architectures (e.g., BERT, GPT) have been developed to overcome these drawbacks and provide better representations of text."
   ]
  },
  {
   "cell_type": "markdown",
   "id": "751d2392-fa5d-4dbb-9f2a-311b313465a4",
   "metadata": {},
   "source": [
    "## Refs\n",
    "\n",
    "[^1]: [CountVectorizer](https://scikit-learn.org/stable/modules/feature_extraction.html#common-vectorizer-usage)"
   ]
  }
 ],
 "metadata": {
  "kernelspec": {
   "display_name": "Python 3 (ipykernel)",
   "language": "python",
   "name": "python3"
  },
  "language_info": {
   "codemirror_mode": {
    "name": "ipython",
    "version": 3
   },
   "file_extension": ".py",
   "mimetype": "text/x-python",
   "name": "python",
   "nbconvert_exporter": "python",
   "pygments_lexer": "ipython3",
   "version": "3.10.12"
  }
 },
 "nbformat": 4,
 "nbformat_minor": 5
}
